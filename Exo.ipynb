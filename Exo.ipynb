{
 "cells": [
  {
   "cell_type": "code",
   "execution_count": 4,
   "metadata": {},
   "outputs": [
    {
     "name": "stdout",
     "output_type": "stream",
     "text": [
      "rayon du conne ?4\n",
      "Hauteur du conne ?5\n",
      "le volume du conne est de :83.73333333333333\n"
     ]
    }
   ],
   "source": [
    "PI = 3.14\n",
    "rayon = input(\"rayon du conne ?\")\n",
    "hauteur = input(\"Hauteur du conne ?\")\n",
    "\n",
    "res = PI * float(rayon) ** 2 * float(hauteur) / 3\n",
    "print(\"le volume du conne est de : \"+ str(res))"
   ]
  },
  {
   "cell_type": "code",
   "execution_count": null,
   "metadata": {},
   "outputs": [],
   "source": []
  }
 ],
 "metadata": {
  "kernelspec": {
   "display_name": "Python 3",
   "language": "python",
   "name": "python3"
  },
  "language_info": {
   "codemirror_mode": {
    "name": "ipython",
    "version": 3
   },
   "file_extension": ".py",
   "mimetype": "text/x-python",
   "name": "python",
   "nbconvert_exporter": "python",
   "pygments_lexer": "ipython3",
   "version": "3.7.6"
  }
 },
 "nbformat": 4,
 "nbformat_minor": 4
}
