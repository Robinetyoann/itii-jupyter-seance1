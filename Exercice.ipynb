{
 "cells": [
  {
   "cell_type": "code",
   "execution_count": 4,
   "metadata": {},
   "outputs": [
    {
     "name": "stdout",
     "output_type": "stream",
     "text": [
      "rayon du conne ?4\n",
      "Hauteur du conne ?5\n",
      "le volume du conne est de :83.73333333333333\n"
     ]
    }
   ],
   "source": [
    "#Exercice 1\n",
    "import math \n",
    "rayon = input(\"rayon du conne ?\")\n",
    "hauteur = input(\"Hauteur du conne ?\")\n",
    "\n",
    "res = math.pi * float(rayon) ** 2 * float(hauteur) / 3\n",
    "print(\"le volume du conne est de : \"+ str(res))"
   ]
  },
  {
   "cell_type": "code",
   "execution_count": 7,
   "metadata": {},
   "outputs": [
    {
     "name": "stdout",
     "output_type": "stream",
     "text": [
      "renter une valeur de n5\n",
      "225\n"
     ]
    }
   ],
   "source": [
    "#Exercice 2.1\n",
    "n = input(\"renter une valeur de n\")\n",
    "res = 0\n",
    "for i in range(1,int(n)+1) :\n",
    "    res = res + i**3\n",
    "    \n",
    "print (res)"
   ]
  },
  {
   "cell_type": "code",
   "execution_count": null,
   "metadata": {},
   "outputs": [],
   "source": [
    "#Exercice 2.2\n",
    "n = input(\"renter une valeur de n\")\n",
    "res = 0\n",
    "for i in range(1,int(n)+1) :\n",
    "    res = res + i\n",
    "    \n",
    "print (res)"
   ]
  },
  {
   "cell_type": "code",
   "execution_count": 17,
   "metadata": {},
   "outputs": [
    {
     "name": "stdout",
     "output_type": "stream",
     "text": [
      "300\n"
     ]
    }
   ],
   "source": [
    "#Exercice 3\n",
    "res = 0 \n",
    "for i in range(1,1000) :\n",
    "    res += str(i).count(\"1\")\n",
    "    \n",
    "print(res)"
   ]
  },
  {
   "cell_type": "code",
   "execution_count": 18,
   "metadata": {},
   "outputs": [
    {
     "name": "stdout",
     "output_type": "stream",
     "text": [
      "entrer un entier5\n",
      "5.0\n"
     ]
    }
   ],
   "source": [
    "#Exercice 3.2\n",
    "entier = input(\"entrer un entier\")\n",
    "print(float(entier))"
   ]
  },
  {
   "cell_type": "code",
   "execution_count": 5,
   "metadata": {},
   "outputs": [
    {
     "name": "stdout",
     "output_type": "stream",
     "text": [
      "Pi = 3.143400\n"
     ]
    }
   ],
   "source": [
    "from math import sqrt\n",
    "from random import random\n",
    "\n",
    "NombreHistoires = 100000\n",
    "Compteur= 0\n",
    "\n",
    "for i in range(NombreHistoires):\n",
    "    x = random()\n",
    "    y = random()\n",
    "    r = sqrt(x**2+y**2)\n",
    "    if r <= 1:\n",
    "        Compteur = Compteur + 1\n",
    "\n",
    "Pi = 4 * Compteur / NombreHistoires\n",
    "\n",
    "print(\"Pi = %f\" % Pi)"
   ]
  },
  {
   "cell_type": "code",
   "execution_count": null,
   "metadata": {},
   "outputs": [],
   "source": []
  }
 ],
 "metadata": {
  "kernelspec": {
   "display_name": "Python 3",
   "language": "python",
   "name": "python3"
  },
  "language_info": {
   "codemirror_mode": {
    "name": "ipython",
    "version": 3
   },
   "file_extension": ".py",
   "mimetype": "text/x-python",
   "name": "python",
   "nbconvert_exporter": "python",
   "pygments_lexer": "ipython3",
   "version": "3.7.6"
  }
 },
 "nbformat": 4,
 "nbformat_minor": 4
}
